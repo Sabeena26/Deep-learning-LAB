{
  "nbformat": 4,
  "nbformat_minor": 0,
  "metadata": {
    "colab": {
      "provenance": [],
      "authorship_tag": "ABX9TyO9+cstHV8JKPpvcDf6GiSg",
      "include_colab_link": true
    },
    "kernelspec": {
      "name": "python3",
      "display_name": "Python 3"
    },
    "language_info": {
      "name": "python"
    }
  },
  "cells": [
    {
      "cell_type": "markdown",
      "metadata": {
        "id": "view-in-github",
        "colab_type": "text"
      },
      "source": [
        "<a href=\"https://colab.research.google.com/github/Sabeena26/SABEENA1/blob/main/Matrixes.ipynb\" target=\"_parent\"><img src=\"https://colab.research.google.com/assets/colab-badge.svg\" alt=\"Open In Colab\"/></a>"
      ]
    },
    {
      "cell_type": "code",
      "execution_count": 1,
      "metadata": {
        "colab": {
          "base_uri": "https://localhost:8080/"
        },
        "id": "heKRQSpLTDNI",
        "outputId": "6b7ce24f-8faf-4fd1-8c21-4cf4ac97bab1"
      },
      "outputs": [
        {
          "output_type": "stream",
          "name": "stdout",
          "text": [
            "3 3 \n",
            "Enter elements of matrix A:\n",
            "2 3 2  5\n",
            "1 7 1 8\n",
            "1 9 2 3 \n",
            "Enter elements of matrix B:\n",
            "1 4 1  2\n",
            "2  5  2  3\n",
            "1  4  2  5\n",
            "\n",
            "Result of matrix addition:\n",
            "1 -1 1\n",
            "-1 2 -1\n",
            "0 5 0\n"
          ]
        }
      ],
      "source": [
        "def main():\n",
        "  r,c = map(int,input().split())\n",
        "  A = []\n",
        "  B = []\n",
        "  print(\"Enter elements of matrix A:\")\n",
        "  for i in range(r):\n",
        "    row = list(map(int,input().split()))\n",
        "    A.append(row)\n",
        "  print(\"Enter elements of matrix B:\")\n",
        "  for i in range(r):\n",
        "    row = list(map(int,input().split()))\n",
        "    B.append(row)\n",
        "  res = [[0]*c for _ in range(r)]\n",
        "  for i in range(r):\n",
        "    for j in range(c):\n",
        "      res[i][j] = A[i][j] - B[i][j]\n",
        "  print(\"\\nResult of matrix addition:\")\n",
        "  for row in res:\n",
        "    print(' '.join(map(str,row)))\n",
        "\n",
        "if __name__ ==\"__main__\" :\n",
        "   main()"
      ]
    }
  ]
}